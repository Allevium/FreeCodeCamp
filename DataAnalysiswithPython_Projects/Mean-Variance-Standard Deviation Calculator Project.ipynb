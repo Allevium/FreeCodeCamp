{
 "cells": [
  {
   "cell_type": "markdown",
   "id": "19b2cae7-ead4-491d-9116-7adf63151f6b",
   "metadata": {},
   "source": [
    "# Mean-Variance-Standard Deviation Calculator from freeCodeCamp\n",
    "\n",
    "## AJNF"
   ]
  },
  {
   "cell_type": "code",
   "execution_count": 1,
   "id": "989dfaf1-85ba-4e64-b0e3-c90d3255b69f",
   "metadata": {},
   "outputs": [],
   "source": [
    "import numpy as np\n",
    "\n",
    "\n",
    "def calculate(input_):\n",
    "        \n",
    "    if len(input_) == len(range(0,9)):\n",
    "    \n",
    "        first_row = input_[0:3]\n",
    "        second_row = input_[3:6]\n",
    "        third_row = input_[6:9]\n",
    "\n",
    "        whole_matrix  = []\n",
    "        whole_matrix.append(first_row)\n",
    "        whole_matrix.append(second_row)\n",
    "        whole_matrix.append(third_row)\n",
    "\n",
    "        ax1_term1 = input_[0], input_[3], input_[6]\n",
    "        ax1_term2 = input_[1], input_[4],input_[7]\n",
    "        ax1_term3 = input_[2], input_[5],input_[8]\n",
    "        axis_1 = [ax1_term1, ax1_term2, ax1_term3]\n",
    "        ax1_mean = [np.mean(ax1_term1), np.mean(ax1_term2), np.mean(ax1_term3)]\n",
    "        ax1_var = [np.var(ax1_term1), np.var(ax1_term2), np.var(ax1_term3)]\n",
    "        ax1_std = [np.std(ax1_term1), np.std(ax1_term2), np.std(ax1_term3)]\n",
    "        ax1_max = [np.max(ax1_term1), np.max(ax1_term2), np.max(ax1_term3)]\n",
    "        ax1_min = [np.min(ax1_term1), np.min(ax1_term2), np.min(ax1_term3)]\n",
    "        ax1_sum = [np.sum(ax1_term1), np.sum(ax1_term2), np.sum(ax1_term3)]\n",
    "\n",
    "        ax2_term1 = input_[0], input_[1], input_[2]\n",
    "        ax2_term2 = input_[3], input_[4],input_[5]\n",
    "        ax2_term3 = input_[6], input_[7],input_[8]\n",
    "        axis_2 = [ax1_term1, ax1_term2, ax1_term3]\n",
    "        ax2_mean = [np.mean(ax1_term1), np.mean(ax1_term2), np.mean(ax1_term3)]\n",
    "        ax2_var = [np.var(ax2_term1), np.var(ax2_term2), np.var(ax2_term3)]\n",
    "        ax2_std = [np.std(ax2_term1), np.std(ax2_term2), np.std(ax2_term3)]\n",
    "        ax2_max = [np.max(ax2_term1), np.max(ax2_term2), np.max(ax2_term3)]\n",
    "        ax2_min = [np.min(ax2_term1), np.min(ax2_term2), np.min(ax2_term3)]\n",
    "        ax2_sum = [np.sum(ax2_term1), np.sum(ax2_term2), np.sum(ax2_term3)]\n",
    "\n",
    "        flat_mean = np.mean(input_)\n",
    "        flat_var = np.var(input_)\n",
    "        flat_std = np.std(input_)\n",
    "        flat_max = np.max(input_)\n",
    "        flat_min = np.min(input_)\n",
    "        flat_sum = np.sum(input_)\n",
    "\n",
    "        calculations = {\n",
    "          'mean': [ax1_mean, ax2_mean, flat_mean],\n",
    "          'variance': [ax1_var, ax2_var, flat_var],\n",
    "          'standard deviation': [ax1_std, ax2_std, flat_std],\n",
    "          'max': [ax1_max, ax2_max, flat_max],\n",
    "          'min': [ax1_min, ax2_min, flat_min],\n",
    "          'sum': [ax1_sum, ax2_sum, flat_sum]\n",
    "        }\n",
    "\n",
    "        return calculations\n",
    "    else:\n",
    "        raise ValueError(\"List must contain nine numbers.\")"
   ]
  },
  {
   "cell_type": "code",
   "execution_count": 4,
   "id": "9cf1fea6-cd53-4006-a17a-dbc03b7a0729",
   "metadata": {},
   "outputs": [
    {
     "data": {
      "text/plain": [
       "{'mean': [[3.0, 4.0, 5.0], [3.0, 4.0, 5.0], 4.0],\n",
       " 'variance': [[6.0, 6.0, 6.0],\n",
       "  [0.6666666666666666, 0.6666666666666666, 0.6666666666666666],\n",
       "  6.666666666666667],\n",
       " 'standard deviation': [[2.449489742783178,\n",
       "   2.449489742783178,\n",
       "   2.449489742783178],\n",
       "  [0.816496580927726, 0.816496580927726, 0.816496580927726],\n",
       "  2.581988897471611],\n",
       " 'max': [[6, 7, 8], [2, 5, 8], 8],\n",
       " 'min': [[0, 1, 2], [0, 3, 6], 0],\n",
       " 'sum': [[9, 12, 15], [3, 12, 21], 36]}"
      ]
     },
     "execution_count": 4,
     "metadata": {},
     "output_type": "execute_result"
    }
   ],
   "source": [
    "calculate([0,1,2,3,4,5,6,7,8])"
   ]
  }
 ],
 "metadata": {
  "kernelspec": {
   "display_name": "Python 3 (ipykernel)",
   "language": "python",
   "name": "python3"
  },
  "language_info": {
   "codemirror_mode": {
    "name": "ipython",
    "version": 3
   },
   "file_extension": ".py",
   "mimetype": "text/x-python",
   "name": "python",
   "nbconvert_exporter": "python",
   "pygments_lexer": "ipython3",
   "version": "3.8.13"
  }
 },
 "nbformat": 4,
 "nbformat_minor": 5
}
