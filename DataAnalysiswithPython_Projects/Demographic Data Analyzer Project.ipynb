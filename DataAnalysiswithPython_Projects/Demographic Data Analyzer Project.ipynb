{
 "cells": [
  {
   "cell_type": "markdown",
   "id": "cf606c84-7302-4d08-b226-f9a5f09212b5",
   "metadata": {},
   "source": [
    "# Demographic Data Analyzer from freeCodeCamp\n",
    "\n",
    "## AJNF"
   ]
  },
  {
   "cell_type": "code",
   "execution_count": 2,
   "id": "67d0a691-d486-47dc-ab95-ed0aea4b53cb",
   "metadata": {},
   "outputs": [],
   "source": [
    "import pandas as pd\n",
    "\n",
    "\n",
    "def calculate_demographic_data(print_data=True):\n",
    "    # Read data from file\n",
    "    df = pd.read_csv('adult.data.csv')\n",
    "\n",
    "    # How many of each race are represented in this dataset? This should be a Pandas series with race names as the index labels.\n",
    "    race_count = [df['race'].value_counts()]\n",
    "\n",
    "    # What is the average age of men?\n",
    "    average_age_men = df.loc[df['sex'] == \"Male\"]['age'].mean()\n",
    "\n",
    "    # What is the percentage of people who have a Bachelor's degree?\n",
    "    percentage_bachelors = (len(df.loc[df['education'] == 'Bachelors']) * 100)/ len(df)\n",
    "\n",
    "    # What percentage of people with advanced education (`Bachelors`, `Masters`, or `Doctorate`) make more than 50K?\n",
    "    # What percentage of people without advanced education make more than 50K?\n",
    "\n",
    "    # with and without `Bachelors`, `Masters`, or `Doctorate`\n",
    "    highed_list = ['Bachelors','Masters','Doctorate']\n",
    "    higher_education = (len(df[df['education'].isin(highed_list)])*100) /len(df) \n",
    "    \n",
    "    \n",
    "    lower_education = 100 - higher_education\n",
    "\n",
    "    # percentage with salary >50K\n",
    "    higher_education_rich = (len(df.loc[df['salary'] == \">50K\"])*100)/len(df)\n",
    "    lower_education_rich = 100- higher_education_rich\n",
    "\n",
    "    # What is the minimum number of hours a person works per week (hours-per-week feature)?\n",
    "    min_work_hours = df['hours-per-week'].min()\n",
    "\n",
    "    # What percentage of the people who work the minimum number of hours per week have a salary of >50K?\n",
    "    num_min_workers = len(df.loc[df['hours-per-week'] == 1])\n",
    "\n",
    "    rich_percentage = (len(df.loc[df['hours-per-week']== 1].loc[df.loc[df['hours-per-week'] == 1]['salary'] == '>50K']) * 100)/num_min_workers\n",
    "\n",
    "    # What country has the highest percentage of people that earn >50K?\n",
    "    highest_earning_country = df.loc[df['salary'] == \">50K\"]['native-country'].mode()\n",
    "    highest_earning_country_percentage = (len(df.loc[df['salary'] == \">50K\"].loc[df.loc[df['salary'] == \">50K\"]\n",
    "                                        ['native-country'] == 'United-States'])*100)/len(df.loc[df['salary'] == \">50K\"])\n",
    "\n",
    "    # Identify the most popular occupation for those who earn >50K in India.\n",
    "    top_IN_occupation = df.loc[df['salary'] == \">50K\"].loc[df.loc[df['salary'] == \">50K\"]['native-country'] == 'India']['occupation'].mode()\n",
    "\n",
    "    # DO NOT MODIFY BELOW THIS LINE\n",
    "\n",
    "    if print_data:\n",
    "        print(\"Number of each race:\\n\", race_count) \n",
    "        print(\"Average age of men:\", average_age_men)\n",
    "        print(f\"Percentage with Bachelors degrees: {percentage_bachelors}%\")\n",
    "        print(f\"Percentage with higher education that earn >50K: {higher_education_rich}%\")\n",
    "        print(f\"Percentage without higher education that earn >50K: {lower_education_rich}%\")\n",
    "        print(f\"Min work time: {min_work_hours} hours/week\")\n",
    "        print(f\"Percentage of rich among those who work fewest hours: {rich_percentage}%\")\n",
    "        print(\"Country with highest percentage of rich:\", highest_earning_country)\n",
    "        print(f\"Highest percentage of rich people in country: {highest_earning_country_percentage}%\")\n",
    "        print(\"Top occupations in India:\", top_IN_occupation)\n",
    "\n",
    "    return {\n",
    "        'race_count': race_count,\n",
    "        'average_age_men': average_age_men,\n",
    "        'percentage_bachelors': percentage_bachelors,\n",
    "        'higher_education_rich': higher_education_rich,\n",
    "        'lower_education_rich': lower_education_rich,\n",
    "        'min_work_hours': min_work_hours,\n",
    "        'rich_percentage': rich_percentage,\n",
    "        'highest_earning_country': highest_earning_country,\n",
    "        'highest_earning_country_percentage':\n",
    "        highest_earning_country_percentage,\n",
    "        'top_IN_occupation': top_IN_occupation\n",
    "    }\n"
   ]
  },
  {
   "cell_type": "code",
   "execution_count": 4,
   "id": "ea97be2a-0c77-41cd-ad46-92ad71576775",
   "metadata": {},
   "outputs": [
    {
     "name": "stdout",
     "output_type": "stream",
     "text": [
      "Number of each race:\n",
      " [White                 27816\n",
      "Black                  3124\n",
      "Asian-Pac-Islander     1039\n",
      "Amer-Indian-Eskimo      311\n",
      "Other                   271\n",
      "Name: race, dtype: int64]\n",
      "Average age of men: 39.43354749885268\n",
      "Percentage with Bachelors degrees: 16.446055096587944%\n",
      "Percentage with higher education that earn >50K: 24.080955744602438%\n",
      "Percentage without higher education that earn >50K: 75.91904425539757%\n",
      "Min work time: 1 hours/week\n",
      "Percentage of rich among those who work fewest hours: 10.0%\n",
      "Country with highest percentage of rich: 0    United-States\n",
      "Name: native-country, dtype: object\n",
      "Highest percentage of rich people in country: 91.45517153424308%\n",
      "Top occupations in India: 0    Prof-specialty\n",
      "Name: occupation, dtype: object\n"
     ]
    },
    {
     "data": {
      "text/plain": [
       "{'race_count': [White                 27816\n",
       "  Black                  3124\n",
       "  Asian-Pac-Islander     1039\n",
       "  Amer-Indian-Eskimo      311\n",
       "  Other                   271\n",
       "  Name: race, dtype: int64],\n",
       " 'average_age_men': 39.43354749885268,\n",
       " 'percentage_bachelors': 16.446055096587944,\n",
       " 'higher_education_rich': 24.080955744602438,\n",
       " 'lower_education_rich': 75.91904425539757,\n",
       " 'min_work_hours': 1,\n",
       " 'rich_percentage': 10.0,\n",
       " 'highest_earning_country': 0    United-States\n",
       " Name: native-country, dtype: object,\n",
       " 'highest_earning_country_percentage': 91.45517153424308,\n",
       " 'top_IN_occupation': 0    Prof-specialty\n",
       " Name: occupation, dtype: object}"
      ]
     },
     "execution_count": 4,
     "metadata": {},
     "output_type": "execute_result"
    }
   ],
   "source": [
    "calculate_demographic_data()"
   ]
  }
 ],
 "metadata": {
  "kernelspec": {
   "display_name": "Python 3 (ipykernel)",
   "language": "python",
   "name": "python3"
  },
  "language_info": {
   "codemirror_mode": {
    "name": "ipython",
    "version": 3
   },
   "file_extension": ".py",
   "mimetype": "text/x-python",
   "name": "python",
   "nbconvert_exporter": "python",
   "pygments_lexer": "ipython3",
   "version": "3.8.13"
  }
 },
 "nbformat": 4,
 "nbformat_minor": 5
}
