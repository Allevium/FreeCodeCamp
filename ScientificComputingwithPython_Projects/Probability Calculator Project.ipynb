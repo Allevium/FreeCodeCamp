{
 "cells": [
  {
   "cell_type": "markdown",
   "id": "b9414259-bb2a-4904-89d4-29a75b0b20ae",
   "metadata": {},
   "source": [
    "# Probability Calculator Project from freeCodeCamp\n",
    "## AJNF"
   ]
  },
  {
   "cell_type": "code",
   "execution_count": 10,
   "id": "6b554a44-2908-4761-8c36-9780d7f61c57",
   "metadata": {},
   "outputs": [],
   "source": [
    "import random\n",
    "import copy\n",
    "\n",
    "class Hat:\n",
    "    def __init__ (self, **arguments):\n",
    "        self.contents = []\n",
    "        \n",
    "        global global_contents\n",
    "        global_contents = []\n",
    "        \n",
    "        self.color_contents = []\n",
    "        \n",
    "        global global_color_contents\n",
    "        global_color_contents = []\n",
    "        \n",
    "        self.number_contents = []\n",
    "        \n",
    "        global global_number_contents\n",
    "        global_number_contents = []\n",
    "        \n",
    "        self.drawn_balls = []\n",
    "        \n",
    "        split_comma = str(arguments).split(\",\")\n",
    "        \n",
    "        for char_ in split_comma:\n",
    "            split_colon = char_.split(\":\")\n",
    "            number_ = split_colon[1][1]\n",
    "            self.number_contents.append(number_)\n",
    "            global_number_contents.append(number_)\n",
    "            \n",
    "        for color_ in arguments:\n",
    "            self.color_contents.append(color_)\n",
    "            global_color_contents.append(color_)\n",
    "        \n",
    "        n = 0\n",
    "        for color_ in self.color_contents:\n",
    "            for i in range(0,int(self.number_contents[n])):\n",
    "                self.contents.append(self.color_contents[n])\n",
    "                global_contents.append(self.color_contents[n])\n",
    "            n = n+1\n",
    "        \n",
    "    def draw (self, ball_number):\n",
    "        \n",
    "        if ball_number <= len(self.contents):\n",
    "            for draw_ in range(ball_number):\n",
    "                random_n = random.randint(0, len(self.contents)-1)\n",
    "                value_n = self.contents[random_n]\n",
    "                self.drawn_balls.append(value_n)\n",
    "                del self.contents[random_n]\n",
    "        elif ball_number > len(self.contents):\n",
    "            self.contents.extend(self.drawn_balls)\n",
    "            self.drawn_balls.clear()\n",
    "            \n",
    "def experiment (**arguments):\n",
    "    \n",
    "    expected_ball_list = []\n",
    "    expected_ball_list_color = []\n",
    "    expected_ball_list_value = [] \n",
    "\n",
    "\n",
    "    for color in arguments[\"expected_balls\"]:\n",
    "        expected_ball_list_color.append(color)\n",
    "\n",
    "    for freq in arguments[\"expected_balls\"]:\n",
    "        expected_ball_list_value.append(arguments[\"expected_balls\"][freq])\n",
    "\n",
    "    value_drawn = arguments[\"num_balls_drawn\"]\n",
    "    value_exp = arguments[\"num_experiments\"]\n",
    "\n",
    "    z = 0\n",
    "    for color_ in expected_ball_list_color:\n",
    "        for i in range(0,int(expected_ball_list_value[z])):\n",
    "            expected_ball_list.append(expected_ball_list_color[z])\n",
    "        z = z+1\n",
    "\n",
    "    M = 0\n",
    "    for i in range(int(value_exp)):\n",
    "        rad_list = []\n",
    "        for n in range(len(expected_ball_list)):\n",
    "            amount = len(global_contents)-1\n",
    "            rad_value = random.randint(0, amount)\n",
    "            rad_list.append(rad_value)\n",
    "            amount = amount -1\n",
    "\n",
    "        if global_contents[rad_list[0]] == expected_ball_list[0] and\\\n",
    "        global_contents[rad_list[1]] == expected_ball_list[1] and\\\n",
    "        global_contents[rad_list[2]] == expected_ball_list[2]:\n",
    "            M = M + 1\n",
    "        elif global_contents[rad_list[0]] == expected_ball_list[0] and\\\n",
    "        global_contents[rad_list[1]] == expected_ball_list[2] and\\\n",
    "        global_contents[rad_list[2]] == expected_ball_list[1]:\n",
    "            M = M + 1\n",
    "        elif global_contents[rad_list[0]] == expected_ball_list[2] and\\\n",
    "        global_contents[rad_list[1]] == expected_ball_list[1] and\\\n",
    "        global_contents[rad_list[2]] == expected_ball_list[0]:\n",
    "            M = M + 1\n",
    "\n",
    "    N = int(value_exp)\n",
    "\n",
    "    est_prob = M / N\n",
    "\n",
    "    return est_prob"
   ]
  },
  {
   "cell_type": "code",
   "execution_count": 11,
   "id": "4cc9ebc1-e07c-4f17-9550-6d0de494d868",
   "metadata": {},
   "outputs": [
    {
     "data": {
      "text/plain": [
       "0.0675"
      ]
     },
     "execution_count": 11,
     "metadata": {},
     "output_type": "execute_result"
    }
   ],
   "source": [
    "hat1 = Hat(black=6, red=4, green=3)\n",
    "probability1 = experiment(hat=hat1,\n",
    "                  expected_balls={\"red\":2,\"green\":1},\n",
    "                  num_balls_drawn=5,\n",
    "                  num_experiments=2000)\n",
    "probability1"
   ]
  },
  {
   "cell_type": "code",
   "execution_count": 12,
   "id": "e6082666-1eb8-4b3a-b4cb-cf958d3ffb9f",
   "metadata": {},
   "outputs": [
    {
     "data": {
      "text/plain": [
       "0.060333333333333336"
      ]
     },
     "execution_count": 12,
     "metadata": {},
     "output_type": "execute_result"
    }
   ],
   "source": [
    "hat2 = Hat(blue=4, red=2, green=6)\n",
    "probability2 = experiment(hat=hat2,\n",
    "    expected_balls={\"blue\": 2,\n",
    "                    \"red\": 1},\n",
    "    num_balls_drawn=4,\n",
    "    num_experiments=3000)\n",
    "probability2"
   ]
  },
  {
   "cell_type": "code",
   "execution_count": 13,
   "id": "408c4975-e354-470f-a407-29dec31e24c0",
   "metadata": {},
   "outputs": [
    {
     "data": {
      "text/plain": [
       "0.05533333333333333"
      ]
     },
     "execution_count": 13,
     "metadata": {},
     "output_type": "execute_result"
    }
   ],
   "source": [
    "import prob_calculator\n",
    "hat = prob_calculator.Hat(blue=4, red=2, green=6)\n",
    "probability = prob_calculator.experiment(\n",
    "    hat=hat,\n",
    "    expected_balls={\"blue\": 2,\n",
    "                    \"red\": 1},\n",
    "    num_balls_drawn=4,\n",
    "    num_experiments=3000)\n",
    "probability"
   ]
  }
 ],
 "metadata": {
  "kernelspec": {
   "display_name": "Python 3 (ipykernel)",
   "language": "python",
   "name": "python3"
  },
  "language_info": {
   "codemirror_mode": {
    "name": "ipython",
    "version": 3
   },
   "file_extension": ".py",
   "mimetype": "text/x-python",
   "name": "python",
   "nbconvert_exporter": "python",
   "pygments_lexer": "ipython3",
   "version": "3.8.13"
  }
 },
 "nbformat": 4,
 "nbformat_minor": 5
}
