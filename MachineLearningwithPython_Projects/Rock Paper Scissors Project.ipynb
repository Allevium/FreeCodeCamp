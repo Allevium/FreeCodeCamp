{
 "cells": [
  {
   "cell_type": "markdown",
   "id": "43a0001b-8b15-408d-8732-d62f16bac19a",
   "metadata": {},
   "source": [
    "# Rock Paper Scissors from freeCodeCamp\n",
    "\n",
    "## AJNF"
   ]
  },
  {
   "cell_type": "code",
   "execution_count": 1,
   "id": "b17fba89-57fe-457f-9132-80983ed88b4f",
   "metadata": {},
   "outputs": [],
   "source": [
    "def player(prev_play, opponent_history=[]):\n",
    "    opponent_history.append(prev_play)\n",
    "    prob_P = opponent_history.count('P')/len(opponent_history)\n",
    "    prob_S = opponent_history.count('S')/len(opponent_history)\n",
    "    prob_R = opponent_history.count('R')/len(opponent_history)\n",
    "  \n",
    "    guess = \"R\"\n",
    "\n",
    "    if prev_play == 'R':\n",
    "        if prob_P > 0.3:\n",
    "            guess = 'S'\n",
    "        elif prob_S > 0.3:\n",
    "                guess = 'R'\n",
    "        elif prob_R > 0.3:\n",
    "                guess = 'P'\n",
    "        else:\n",
    "            guess = 'S'\n",
    "    if prev_play == 'S':\n",
    "        if prob_P > 0.3:\n",
    "            guess = 'S'\n",
    "        elif prob_S > 0.3:\n",
    "            guess = 'R'\n",
    "        elif prob_R > 0.3:\n",
    "            guess = 'P'\n",
    "        else:\n",
    "            guess = 'R'\n",
    "    if prev_play == 'P':\n",
    "        if prob_P > 0.3:\n",
    "            guess = 'S'\n",
    "        elif prob_S > 0.3:\n",
    "            guess = 'R'\n",
    "        elif prob_R > 0.3:\n",
    "            guess = 'P'\n",
    "        else:\n",
    "            guess = 'S'\n",
    "    return guess\n"
   ]
  },
  {
   "cell_type": "code",
   "execution_count": 3,
   "id": "f42131c2-65fc-4b11-bff2-effc77da9ba0",
   "metadata": {},
   "outputs": [],
   "source": [
    "opponent_history=['P','S','R', 'S']\n",
    "for i in range(0,len(opponent_history)):\n",
    "    "
   ]
  },
  {
   "cell_type": "code",
   "execution_count": 13,
   "id": "018d0a24-db74-4a2f-ba4f-253c8ee1b809",
   "metadata": {},
   "outputs": [
    {
     "data": {
      "text/plain": [
       "0.25"
      ]
     },
     "execution_count": 13,
     "metadata": {},
     "output_type": "execute_result"
    }
   ],
   "source": [
    "prob_P = opponent_history.count('P')/len(opponent_history)\n",
    "prob_S = opponent_history.count('S')/len(opponent_history)\n",
    "prob_R = opponent_history.count('R')/len(opponent_history)"
   ]
  },
  {
   "cell_type": "code",
   "execution_count": null,
   "id": "6373837c-ac36-4c3c-ba48-5dd6c29923c6",
   "metadata": {},
   "outputs": [],
   "source": [
    "if prob_P > 0.5:\n",
    "    guess = 'S'\n",
    "elif prob_S > 0.5:\n",
    "    guess = 'R'\n",
    "elif prob_R > 0.5:\n",
    "    guess = 'P'"
   ]
  }
 ],
 "metadata": {
  "kernelspec": {
   "display_name": "Python 3 (ipykernel)",
   "language": "python",
   "name": "python3"
  },
  "language_info": {
   "codemirror_mode": {
    "name": "ipython",
    "version": 3
   },
   "file_extension": ".py",
   "mimetype": "text/x-python",
   "name": "python",
   "nbconvert_exporter": "python",
   "pygments_lexer": "ipython3",
   "version": "3.8.13"
  }
 },
 "nbformat": 4,
 "nbformat_minor": 5
}
